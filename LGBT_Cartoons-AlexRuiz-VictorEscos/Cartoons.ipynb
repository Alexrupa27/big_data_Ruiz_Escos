{
 "cells": [
  {
   "cell_type": "code",
   "execution_count": 9,
   "id": "2350dc6b",
   "metadata": {},
   "outputs": [],
   "source": [
    "%matplotlib inline\n",
    "\n",
    "import numpy as np\n",
    "import pandas as pd\n",
    "import matplotlib.pyplot as plt"
   ]
  },
  {
   "cell_type": "code",
   "execution_count": 10,
   "id": "19857a58",
   "metadata": {},
   "outputs": [],
   "source": [
    "people = pd.read_csv('personaje.csv')\n",
    "serie = pd.read_csv('serie.csv')"
   ]
  },
  {
   "cell_type": "code",
   "execution_count": 11,
   "id": "72293503",
   "metadata": {
    "scrolled": true
   },
   "outputs": [
    {
     "data": {
      "text/plain": [
       "353"
      ]
     },
     "execution_count": 11,
     "metadata": {},
     "output_type": "execute_result"
    }
   ],
   "source": [
    "len(people) #cantidad gente"
   ]
  },
  {
   "cell_type": "code",
   "execution_count": 12,
   "id": "6513d337",
   "metadata": {},
   "outputs": [
    {
     "data": {
      "text/plain": [
       "118"
      ]
     },
     "execution_count": 12,
     "metadata": {},
     "output_type": "execute_result"
    }
   ],
   "source": [
    "len(serie)  #cantidad series"
   ]
  },
  {
   "cell_type": "code",
   "execution_count": 13,
   "id": "a198d6e9",
   "metadata": {},
   "outputs": [
    {
     "data": {
      "text/html": [
       "<div>\n",
       "<style scoped>\n",
       "    .dataframe tbody tr th:only-of-type {\n",
       "        vertical-align: middle;\n",
       "    }\n",
       "\n",
       "    .dataframe tbody tr th {\n",
       "        vertical-align: top;\n",
       "    }\n",
       "\n",
       "    .dataframe thead th {\n",
       "        text-align: right;\n",
       "    }\n",
       "</style>\n",
       "<table border=\"1\" class=\"dataframe\">\n",
       "  <thead>\n",
       "    <tr style=\"text-align: right;\">\n",
       "      <th></th>\n",
       "      <th>ID</th>\n",
       "      <th>Serie_titol</th>\n",
       "      <th>edad</th>\n",
       "      <th>IMDB_vots</th>\n",
       "      <th>IMDB_nota</th>\n",
       "      <th>temporades</th>\n",
       "      <th>episodis</th>\n",
       "      <th>data_inici</th>\n",
       "      <th>data_final</th>\n",
       "      <th>duració</th>\n",
       "      <th>plataforma</th>\n",
       "      <th>genere</th>\n",
       "    </tr>\n",
       "  </thead>\n",
       "  <tbody>\n",
       "    <tr>\n",
       "      <th>0</th>\n",
       "      <td>tt7736544</td>\n",
       "      <td>3Below: Tales of Arcadia</td>\n",
       "      <td>2</td>\n",
       "      <td>5776</td>\n",
       "      <td>7.7</td>\n",
       "      <td>2</td>\n",
       "      <td>26</td>\n",
       "      <td>12/21/2018</td>\n",
       "      <td>7/12/2019</td>\n",
       "      <td>203</td>\n",
       "      <td>Netflix</td>\n",
       "      <td>action, adventure, comedia, familia, fantasy, ...</td>\n",
       "    </tr>\n",
       "    <tr>\n",
       "      <th>1</th>\n",
       "      <td>tt1305826</td>\n",
       "      <td>Adventure Time</td>\n",
       "      <td>5</td>\n",
       "      <td>86837</td>\n",
       "      <td>8.6</td>\n",
       "      <td>10</td>\n",
       "      <td>282</td>\n",
       "      <td>4/5/2010</td>\n",
       "      <td>7/20/2018</td>\n",
       "      <td>2839</td>\n",
       "      <td>Cartoon Network</td>\n",
       "      <td>action, adventure, comedia, familia, fantasy, ...</td>\n",
       "    </tr>\n",
       "    <tr>\n",
       "      <th>2</th>\n",
       "      <td>tt11165358</td>\n",
       "      <td>Adventure Time: Distant Lands</td>\n",
       "      <td>5</td>\n",
       "      <td>3322</td>\n",
       "      <td>8.7</td>\n",
       "      <td>1</td>\n",
       "      <td>4</td>\n",
       "      <td>6/25/2020</td>\n",
       "      <td>9/2/2021</td>\n",
       "      <td>434</td>\n",
       "      <td>HBO Max</td>\n",
       "      <td>action, adventure, comedia, familia, fantasy, ...</td>\n",
       "    </tr>\n",
       "    <tr>\n",
       "      <th>3</th>\n",
       "      <td>tt1790914</td>\n",
       "      <td>Allen Gregory</td>\n",
       "      <td>6</td>\n",
       "      <td>3442</td>\n",
       "      <td>4.1</td>\n",
       "      <td>1</td>\n",
       "      <td>7</td>\n",
       "      <td>10/30/2011</td>\n",
       "      <td>12/18/2011</td>\n",
       "      <td>49</td>\n",
       "      <td>Fox</td>\n",
       "      <td>comedia</td>\n",
       "    </tr>\n",
       "    <tr>\n",
       "      <th>4</th>\n",
       "      <td>tt0397306</td>\n",
       "      <td>American Dad!</td>\n",
       "      <td>6</td>\n",
       "      <td>123144</td>\n",
       "      <td>7.3</td>\n",
       "      <td>19</td>\n",
       "      <td>322</td>\n",
       "      <td>2/6/2005</td>\n",
       "      <td>NaN</td>\n",
       "      <td>6201</td>\n",
       "      <td>Fox</td>\n",
       "      <td>comedia</td>\n",
       "    </tr>\n",
       "    <tr>\n",
       "      <th>...</th>\n",
       "      <td>...</td>\n",
       "      <td>...</td>\n",
       "      <td>...</td>\n",
       "      <td>...</td>\n",
       "      <td>...</td>\n",
       "      <td>...</td>\n",
       "      <td>...</td>\n",
       "      <td>...</td>\n",
       "      <td>...</td>\n",
       "      <td>...</td>\n",
       "      <td>...</td>\n",
       "      <td>...</td>\n",
       "    </tr>\n",
       "    <tr>\n",
       "      <th>113</th>\n",
       "      <td>tt8009622</td>\n",
       "      <td>Twelve Forever</td>\n",
       "      <td>2</td>\n",
       "      <td>643</td>\n",
       "      <td>6.4</td>\n",
       "      <td>1</td>\n",
       "      <td>25</td>\n",
       "      <td>7/29/2019</td>\n",
       "      <td>7/29/2019</td>\n",
       "      <td>0</td>\n",
       "      <td>Netflix</td>\n",
       "      <td>action, adventure, comedia, familia, fantasy</td>\n",
       "    </tr>\n",
       "    <tr>\n",
       "      <th>114</th>\n",
       "      <td>tt8146766</td>\n",
       "      <td>Victor and Valentino</td>\n",
       "      <td>2</td>\n",
       "      <td>663</td>\n",
       "      <td>6.2</td>\n",
       "      <td>3</td>\n",
       "      <td>94</td>\n",
       "      <td>3/30/2019</td>\n",
       "      <td>NaN</td>\n",
       "      <td>1036</td>\n",
       "      <td>Cartoon Network</td>\n",
       "      <td>adventure, comedia, familia, fantasy, mystery,...</td>\n",
       "    </tr>\n",
       "    <tr>\n",
       "      <th>115</th>\n",
       "      <td>tt5580664</td>\n",
       "      <td>Voltron: Legendary Defender</td>\n",
       "      <td>2</td>\n",
       "      <td>8504</td>\n",
       "      <td>8.0</td>\n",
       "      <td>8</td>\n",
       "      <td>78</td>\n",
       "      <td>6/10/2016</td>\n",
       "      <td>12/14/2018</td>\n",
       "      <td>917</td>\n",
       "      <td>Netflix</td>\n",
       "      <td>action, adventure, comedia, drama, familia, fa...</td>\n",
       "    </tr>\n",
       "    <tr>\n",
       "      <th>116</th>\n",
       "      <td>tt0383718</td>\n",
       "      <td>W.I.T.C.H.</td>\n",
       "      <td>2</td>\n",
       "      <td>3463</td>\n",
       "      <td>7.3</td>\n",
       "      <td>2</td>\n",
       "      <td>52</td>\n",
       "      <td>12/18/2004</td>\n",
       "      <td>12/23/2006</td>\n",
       "      <td>735</td>\n",
       "      <td>ABC Kids</td>\n",
       "      <td>action, adventure, comedia, drama, familia, fa...</td>\n",
       "    </tr>\n",
       "    <tr>\n",
       "      <th>117</th>\n",
       "      <td>tt1641384</td>\n",
       "      <td>Young Justice</td>\n",
       "      <td>5</td>\n",
       "      <td>37588</td>\n",
       "      <td>8.6</td>\n",
       "      <td>4</td>\n",
       "      <td>85</td>\n",
       "      <td>11/26/2010</td>\n",
       "      <td>NaN</td>\n",
       "      <td>4082</td>\n",
       "      <td>Cartoon Network, DC Universe, HBO Max</td>\n",
       "      <td>action, adventure, crime, romance, science fic...</td>\n",
       "    </tr>\n",
       "  </tbody>\n",
       "</table>\n",
       "<p>118 rows × 12 columns</p>\n",
       "</div>"
      ],
      "text/plain": [
       "             ID                    Serie_titol  edad  IMDB_vots  IMDB_nota  \\\n",
       "0     tt7736544       3Below: Tales of Arcadia     2       5776        7.7   \n",
       "1     tt1305826                 Adventure Time     5      86837        8.6   \n",
       "2    tt11165358  Adventure Time: Distant Lands     5       3322        8.7   \n",
       "3     tt1790914                  Allen Gregory     6       3442        4.1   \n",
       "4     tt0397306                  American Dad!     6     123144        7.3   \n",
       "..          ...                            ...   ...        ...        ...   \n",
       "113   tt8009622                 Twelve Forever     2        643        6.4   \n",
       "114   tt8146766           Victor and Valentino     2        663        6.2   \n",
       "115   tt5580664    Voltron: Legendary Defender     2       8504        8.0   \n",
       "116   tt0383718                     W.I.T.C.H.     2       3463        7.3   \n",
       "117   tt1641384                  Young Justice     5      37588        8.6   \n",
       "\n",
       "     temporades  episodis  data_inici  data_final  duració  \\\n",
       "0             2        26  12/21/2018   7/12/2019      203   \n",
       "1            10       282    4/5/2010   7/20/2018     2839   \n",
       "2             1         4   6/25/2020    9/2/2021      434   \n",
       "3             1         7  10/30/2011  12/18/2011       49   \n",
       "4            19       322    2/6/2005         NaN     6201   \n",
       "..          ...       ...         ...         ...      ...   \n",
       "113           1        25   7/29/2019   7/29/2019        0   \n",
       "114           3        94   3/30/2019         NaN     1036   \n",
       "115           8        78   6/10/2016  12/14/2018      917   \n",
       "116           2        52  12/18/2004  12/23/2006      735   \n",
       "117           4        85  11/26/2010         NaN     4082   \n",
       "\n",
       "                                plataforma  \\\n",
       "0                                  Netflix   \n",
       "1                          Cartoon Network   \n",
       "2                                  HBO Max   \n",
       "3                                      Fox   \n",
       "4                                      Fox   \n",
       "..                                     ...   \n",
       "113                                Netflix   \n",
       "114                        Cartoon Network   \n",
       "115                                Netflix   \n",
       "116                               ABC Kids   \n",
       "117  Cartoon Network, DC Universe, HBO Max   \n",
       "\n",
       "                                                genere  \n",
       "0    action, adventure, comedia, familia, fantasy, ...  \n",
       "1    action, adventure, comedia, familia, fantasy, ...  \n",
       "2    action, adventure, comedia, familia, fantasy, ...  \n",
       "3                                              comedia  \n",
       "4                                              comedia  \n",
       "..                                                 ...  \n",
       "113       action, adventure, comedia, familia, fantasy  \n",
       "114  adventure, comedia, familia, fantasy, mystery,...  \n",
       "115  action, adventure, comedia, drama, familia, fa...  \n",
       "116  action, adventure, comedia, drama, familia, fa...  \n",
       "117  action, adventure, crime, romance, science fic...  \n",
       "\n",
       "[118 rows x 12 columns]"
      ]
     },
     "execution_count": 13,
     "metadata": {},
     "output_type": "execute_result"
    }
   ],
   "source": [
    "serie"
   ]
  },
  {
   "cell_type": "markdown",
   "id": "0c58381f",
   "metadata": {},
   "source": [
    "Ver como recibe el CSV"
   ]
  },
  {
   "cell_type": "code",
   "execution_count": 14,
   "id": "fb0d79fc",
   "metadata": {},
   "outputs": [
    {
     "name": "stdout",
     "output_type": "stream",
     "text": [
      "ID\n",
      "Serie_titol\n",
      "edad\n",
      "IMDB_vots\n",
      "IMDB_nota\n",
      "temporades\n",
      "episodis\n",
      "data_inici\n",
      "data_final\n",
      "duració\n",
      "plataforma\n",
      "genere\n"
     ]
    }
   ],
   "source": [
    "for col in serie.columns:\n",
    "    print(col)"
   ]
  },
  {
   "cell_type": "markdown",
   "id": "146867c8",
   "metadata": {},
   "source": [
    "todas las columnas la informacion que da"
   ]
  },
  {
   "cell_type": "code",
   "execution_count": 15,
   "id": "80720ea6",
   "metadata": {
    "scrolled": true
   },
   "outputs": [
    {
     "data": {
      "text/html": [
       "<div>\n",
       "<style scoped>\n",
       "    .dataframe tbody tr th:only-of-type {\n",
       "        vertical-align: middle;\n",
       "    }\n",
       "\n",
       "    .dataframe tbody tr th {\n",
       "        vertical-align: top;\n",
       "    }\n",
       "\n",
       "    .dataframe thead th {\n",
       "        text-align: right;\n",
       "    }\n",
       "</style>\n",
       "<table border=\"1\" class=\"dataframe\">\n",
       "  <thead>\n",
       "    <tr style=\"text-align: right;\">\n",
       "      <th></th>\n",
       "      <th>ID</th>\n",
       "      <th>show_title</th>\n",
       "      <th>confirmation_date</th>\n",
       "      <th>character_name</th>\n",
       "      <th>race</th>\n",
       "      <th>gender</th>\n",
       "      <th>orientation</th>\n",
       "      <th>role</th>\n",
       "      <th>representation</th>\n",
       "    </tr>\n",
       "  </thead>\n",
       "  <tbody>\n",
       "    <tr>\n",
       "      <th>0</th>\n",
       "      <td>tt7736544</td>\n",
       "      <td>3Below: Tales of Arcadia</td>\n",
       "      <td>7/12/2019</td>\n",
       "      <td>Shannon Longhannon</td>\n",
       "      <td>White</td>\n",
       "      <td>Cis Woman</td>\n",
       "      <td>Lesbian</td>\n",
       "      <td>Recurring Character</td>\n",
       "      <td>Explicit</td>\n",
       "    </tr>\n",
       "    <tr>\n",
       "      <th>1</th>\n",
       "      <td>tt1305826</td>\n",
       "      <td>Adventure Time</td>\n",
       "      <td>5/17/2010</td>\n",
       "      <td>Princess Bubblegum</td>\n",
       "      <td>NaN</td>\n",
       "      <td>Cis Woman</td>\n",
       "      <td>Undetermined</td>\n",
       "      <td>Recurring Character</td>\n",
       "      <td>Explicit</td>\n",
       "    </tr>\n",
       "    <tr>\n",
       "      <th>2</th>\n",
       "      <td>tt1305826</td>\n",
       "      <td>Adventure Time</td>\n",
       "      <td>4/5/2010</td>\n",
       "      <td>Marceline the Vampire Queen</td>\n",
       "      <td>NaN</td>\n",
       "      <td>Cis Woman</td>\n",
       "      <td>Undetermined</td>\n",
       "      <td>Recurring Character</td>\n",
       "      <td>Explicit</td>\n",
       "    </tr>\n",
       "    <tr>\n",
       "      <th>3</th>\n",
       "      <td>tt1305826</td>\n",
       "      <td>Adventure Time</td>\n",
       "      <td>4/26/2010</td>\n",
       "      <td>BMO</td>\n",
       "      <td>NaN</td>\n",
       "      <td>Agender</td>\n",
       "      <td>Undetermined</td>\n",
       "      <td>Recurring Character</td>\n",
       "      <td>Explicit</td>\n",
       "    </tr>\n",
       "    <tr>\n",
       "      <th>4</th>\n",
       "      <td>tt11165358</td>\n",
       "      <td>Adventure Time: Distant Lands</td>\n",
       "      <td>6/25/2020</td>\n",
       "      <td>Y5</td>\n",
       "      <td>NaN</td>\n",
       "      <td>Cis Woman</td>\n",
       "      <td>Ambiguous</td>\n",
       "      <td>Recurring Character</td>\n",
       "      <td>Implicit</td>\n",
       "    </tr>\n",
       "    <tr>\n",
       "      <th>...</th>\n",
       "      <td>...</td>\n",
       "      <td>...</td>\n",
       "      <td>...</td>\n",
       "      <td>...</td>\n",
       "      <td>...</td>\n",
       "      <td>...</td>\n",
       "      <td>...</td>\n",
       "      <td>...</td>\n",
       "      <td>...</td>\n",
       "    </tr>\n",
       "    <tr>\n",
       "      <th>348</th>\n",
       "      <td>tt1641384</td>\n",
       "      <td>Young Justice</td>\n",
       "      <td>6/2/2012</td>\n",
       "      <td>Bart Allen</td>\n",
       "      <td>White</td>\n",
       "      <td>Cis Man</td>\n",
       "      <td>Gay</td>\n",
       "      <td>Recurring Character</td>\n",
       "      <td>Explicit</td>\n",
       "    </tr>\n",
       "    <tr>\n",
       "      <th>349</th>\n",
       "      <td>tt1641384</td>\n",
       "      <td>Young Justice</td>\n",
       "      <td>5/26/2012</td>\n",
       "      <td>Ed Dorado Jr.</td>\n",
       "      <td>POC</td>\n",
       "      <td>Cis Man</td>\n",
       "      <td>Gay</td>\n",
       "      <td>Recurring Character</td>\n",
       "      <td>Implicit</td>\n",
       "    </tr>\n",
       "    <tr>\n",
       "      <th>350</th>\n",
       "      <td>tt1641384</td>\n",
       "      <td>Young Justice</td>\n",
       "      <td>11/26/2010</td>\n",
       "      <td>Marie Logan</td>\n",
       "      <td>White</td>\n",
       "      <td>Cis Woman</td>\n",
       "      <td>Lesbian</td>\n",
       "      <td>Guest Character</td>\n",
       "      <td>Implicit</td>\n",
       "    </tr>\n",
       "    <tr>\n",
       "      <th>351</th>\n",
       "      <td>tt1641384</td>\n",
       "      <td>Young Justice</td>\n",
       "      <td>1/25/2019</td>\n",
       "      <td>Harper Row</td>\n",
       "      <td>White</td>\n",
       "      <td>Cis Woman</td>\n",
       "      <td>Bisexual</td>\n",
       "      <td>Guest Character</td>\n",
       "      <td>Implicit</td>\n",
       "    </tr>\n",
       "    <tr>\n",
       "      <th>352</th>\n",
       "      <td>tt1641384</td>\n",
       "      <td>Young Justice</td>\n",
       "      <td>1/4/2019</td>\n",
       "      <td>Violet Harper</td>\n",
       "      <td>POC</td>\n",
       "      <td>Non Binary</td>\n",
       "      <td>Undetermined</td>\n",
       "      <td>Recurring Character</td>\n",
       "      <td>Explicit</td>\n",
       "    </tr>\n",
       "  </tbody>\n",
       "</table>\n",
       "<p>353 rows × 9 columns</p>\n",
       "</div>"
      ],
      "text/plain": [
       "             ID                     show_title confirmation_date  \\\n",
       "0     tt7736544       3Below: Tales of Arcadia         7/12/2019   \n",
       "1     tt1305826                 Adventure Time         5/17/2010   \n",
       "2     tt1305826                 Adventure Time          4/5/2010   \n",
       "3     tt1305826                 Adventure Time         4/26/2010   \n",
       "4    tt11165358  Adventure Time: Distant Lands         6/25/2020   \n",
       "..          ...                            ...               ...   \n",
       "348   tt1641384                  Young Justice          6/2/2012   \n",
       "349   tt1641384                  Young Justice         5/26/2012   \n",
       "350   tt1641384                  Young Justice        11/26/2010   \n",
       "351   tt1641384                  Young Justice         1/25/2019   \n",
       "352   tt1641384                  Young Justice          1/4/2019   \n",
       "\n",
       "                  character_name   race      gender   orientation  \\\n",
       "0             Shannon Longhannon  White   Cis Woman       Lesbian   \n",
       "1             Princess Bubblegum    NaN   Cis Woman  Undetermined   \n",
       "2    Marceline the Vampire Queen    NaN   Cis Woman  Undetermined   \n",
       "3                            BMO    NaN     Agender  Undetermined   \n",
       "4                             Y5    NaN   Cis Woman     Ambiguous   \n",
       "..                           ...    ...         ...           ...   \n",
       "348                   Bart Allen  White     Cis Man           Gay   \n",
       "349                Ed Dorado Jr.    POC     Cis Man           Gay   \n",
       "350                  Marie Logan  White   Cis Woman       Lesbian   \n",
       "351                   Harper Row  White   Cis Woman      Bisexual   \n",
       "352                Violet Harper    POC  Non Binary  Undetermined   \n",
       "\n",
       "                    role representation  \n",
       "0    Recurring Character       Explicit  \n",
       "1    Recurring Character       Explicit  \n",
       "2    Recurring Character       Explicit  \n",
       "3    Recurring Character       Explicit  \n",
       "4    Recurring Character       Implicit  \n",
       "..                   ...            ...  \n",
       "348  Recurring Character       Explicit  \n",
       "349  Recurring Character       Implicit  \n",
       "350      Guest Character       Implicit  \n",
       "351      Guest Character       Implicit  \n",
       "352  Recurring Character       Explicit  \n",
       "\n",
       "[353 rows x 9 columns]"
      ]
     },
     "execution_count": 15,
     "metadata": {},
     "output_type": "execute_result"
    }
   ],
   "source": [
    "people"
   ]
  },
  {
   "cell_type": "code",
   "execution_count": 16,
   "id": "d75620e0",
   "metadata": {},
   "outputs": [],
   "source": [
    "notes = serie.IMDB_nota\n",
    "vots = serie.IMDB_vots"
   ]
  },
  {
   "cell_type": "markdown",
   "id": "5029cdad",
   "metadata": {},
   "source": [
    "da el valor de notas y el de vots"
   ]
  },
  {
   "cell_type": "code",
   "execution_count": 17,
   "id": "4bf816c4",
   "metadata": {},
   "outputs": [
    {
     "data": {
      "text/plain": [
       "0      7.7\n",
       "1      8.6\n",
       "2      8.7\n",
       "3      4.1\n",
       "4      7.3\n",
       "      ... \n",
       "113    6.4\n",
       "114    6.2\n",
       "115    8.0\n",
       "116    7.3\n",
       "117    8.6\n",
       "Name: IMDB_nota, Length: 118, dtype: float64"
      ]
     },
     "execution_count": 17,
     "metadata": {},
     "output_type": "execute_result"
    }
   ],
   "source": [
    "notes"
   ]
  },
  {
   "cell_type": "code",
   "execution_count": 18,
   "id": "b5a5bdb4",
   "metadata": {},
   "outputs": [],
   "source": [
    "notes = notes.astype('int')"
   ]
  },
  {
   "cell_type": "code",
   "execution_count": 19,
   "id": "932570b9",
   "metadata": {},
   "outputs": [],
   "source": [
    "notes = notes.tolist()\n",
    "vots = vots.tolist()"
   ]
  },
  {
   "cell_type": "code",
   "execution_count": 20,
   "id": "cef8e753",
   "metadata": {},
   "outputs": [
    {
     "data": {
      "text/plain": [
       "118"
      ]
     },
     "execution_count": 20,
     "metadata": {},
     "output_type": "execute_result"
    }
   ],
   "source": [
    "len(notes)"
   ]
  },
  {
   "cell_type": "code",
   "execution_count": 21,
   "id": "5c949948",
   "metadata": {},
   "outputs": [
    {
     "data": {
      "text/plain": [
       "118"
      ]
     },
     "execution_count": 21,
     "metadata": {},
     "output_type": "execute_result"
    }
   ],
   "source": [
    "len(vots)"
   ]
  },
  {
   "cell_type": "code",
   "execution_count": 25,
   "id": "f2b5e928",
   "metadata": {
    "scrolled": false
   },
   "outputs": [
    {
     "data": {
      "image/png": "[encoded data removed]",
      "text/plain": [
       "<Figure size 640x480 with 1 Axes>"
      ]
     },
     "metadata": {},
     "output_type": "display_data"
    }
   ],
   "source": [
    "plt.bar(notes, vots)\n",
    "plt.xticks(notes);\n",
    "plt.scatter(notes, vots)\n",
    "plt.xlabel(\"Nota truncada\")\n",
    "plt.ylabel(\"Nombre de vots\")\n",
    "plt.title(\"Vots en funció de les notes\")\n",
    "plt.show()"
   ]
  },
  {
   "cell_type": "raw",
   "id": "166da1e1",
   "metadata": {},
   "source": [
    "# Grafico en funcion de las notas"
   ]
  },
  {
   "cell_type": "code",
   "execution_count": 23,
   "id": "f2de5b4d",
   "metadata": {},
   "outputs": [
    {
     "data": {
      "text/plain": [
       "0       2\n",
       "1      10\n",
       "2       1\n",
       "3       1\n",
       "4      19\n",
       "       ..\n",
       "113     1\n",
       "114     3\n",
       "115     8\n",
       "116     2\n",
       "117     4\n",
       "Name: temporades, Length: 118, dtype: int64"
      ]
     },
     "execution_count": 23,
     "metadata": {},
     "output_type": "execute_result"
    }
   ],
   "source": [
    "temporades = serie.temporades\n",
    "temporades"
   ]
  },
  {
   "cell_type": "markdown",
   "id": "0494454c",
   "metadata": {},
   "source": [
    "visualizar la cantidad de temporadas y darle valor a temporadas"
   ]
  },
  {
   "cell_type": "code",
   "execution_count": 29,
   "id": "de4892f3",
   "metadata": {},
   "outputs": [
    {
     "data": {
      "image/png": "[encoded data removed]",
      "text/plain": [
       "<Figure size 640x480 with 1 Axes>"
      ]
     },
     "metadata": {},
     "output_type": "display_data"
    }
   ],
   "source": [
    "serie.plot(kind='scatter', x='temporades', y='episodis')\n",
    "plt.xlabel(\"total temporades\")\n",
    "plt.ylabel(\"total episodis\")\n",
    "plt.title(\"Episodis totals\")\n",
    "plt.show()"
   ]
  },
  {
   "cell_type": "markdown",
   "id": "d3e21d04",
   "metadata": {},
   "source": [
    "Grafico episodios totales con las temporadas totales"
   ]
  },
  {
   "cell_type": "code",
   "execution_count": 28,
   "id": "143c7779",
   "metadata": {},
   "outputs": [
    {
     "data": {
      "image/png": "[encoded data removed]",
      "text/plain": [
       "<Figure size 640x480 with 1 Axes>"
      ]
     },
     "metadata": {},
     "output_type": "display_data"
    }
   ],
   "source": [
    "serie.plot(kind='hist', y='IMDB_nota')\n",
    "plt.title('Nota aproximada de les series')\n",
    "plt.show()"
   ]
  },
  {
   "cell_type": "markdown",
   "id": "70c2f2e0",
   "metadata": {},
   "source": [
    "Grafico donde muestra las notas truncadas"
   ]
  },
  {
   "cell_type": "code",
   "execution_count": 50,
   "id": "d1eb2b1f",
   "metadata": {},
   "outputs": [
    {
     "data": {
      "text/plain": [
       "2    36\n",
       "7    35\n",
       "6    16\n",
       "5    15\n",
       "1     7\n",
       "0     6\n",
       "4     3\n",
       "Name: edad, dtype: int64"
      ]
     },
     "execution_count": 50,
     "metadata": {},
     "output_type": "execute_result"
    }
   ],
   "source": [
    "edad = serie.edad\n",
    "edad.value_counts()"
   ]
  },
  {
   "cell_type": "markdown",
   "id": "8ec5d3aa",
   "metadata": {},
   "source": [
    "da el valor a edad y cuenta cuantos tiene cada uno"
   ]
  },
  {
   "cell_type": "code",
   "execution_count": 57,
   "id": "7867c1b9",
   "metadata": {},
   "outputs": [
    {
     "data": {
      "text/plain": [
       "(array([0, 1, 2, 4, 5, 6, 7], dtype=int64),\n",
       " array([ 6,  7, 36,  3, 15, 16, 35], dtype=int64))"
      ]
     },
     "execution_count": 57,
     "metadata": {},
     "output_type": "execute_result"
    }
   ],
   "source": [
    "arr = np.unique(edad, return_counts=1)\n",
    "arr"
   ]
  },
  {
   "cell_type": "code",
   "execution_count": 58,
   "id": "18c8de87",
   "metadata": {},
   "outputs": [],
   "source": [
    "labelsEdad = arr[0].tolist()\n",
    "countEdad = arr[1].tolist()"
   ]
  },
  {
   "cell_type": "code",
   "execution_count": 88,
   "id": "851c6923",
   "metadata": {
    "scrolled": false
   },
   "outputs": [
    {
     "data": {
      "image/png": "[encoded data removed]",
      "text/plain": [
       "<Figure size 640x480 with 1 Axes>"
      ]
     },
     "metadata": {},
     "output_type": "display_data"
    }
   ],
   "source": [
    "figura1, ax1 = plt.subplots()\n",
    "arr = ['No llistat','TV-Y','TV-Y7','TV-G','TV-PG','TV-14','TV-MA']\n",
    "ax1.pie(countEdad, labels=labelsEdad, autopct='%1.1f%%')\n",
    "ax1.legend(arr, bbox_to_anchor=(1, 0.5), loc='center left')\n",
    "plt.show()"
   ]
  },
  {
   "cell_type": "markdown",
   "id": "a9d30483",
   "metadata": {},
   "source": [
    "Grafico de tarta sobre la edad en el cual se le da un nombre en el arr para cada color"
   ]
  },
  {
   "cell_type": "code",
   "execution_count": null,
   "id": "7678d0a1",
   "metadata": {},
   "outputs": [],
   "source": []
  },
  {
   "cell_type": "code",
   "execution_count": null,
   "id": "ca4f4afb",
   "metadata": {},
   "outputs": [],
   "source": []
  }
 ],
 "metadata": {
  "kernelspec": {
   "display_name": "Python 3 (ipykernel)",
   "language": "python",
   "name": "python3"
  },
  "language_info": {
   "codemirror_mode": {
    "name": "ipython",
    "version": 3
   },
   "file_extension": ".py",
   "mimetype": "text/x-python",
   "name": "python",
   "nbconvert_exporter": "python",
   "pygments_lexer": "ipython3",
   "version": "3.8.0"
  }
 },
 "nbformat": 4,
 "nbformat_minor": 5
}
